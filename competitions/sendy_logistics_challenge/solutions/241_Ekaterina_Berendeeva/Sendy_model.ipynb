version https://git-lfs.github.com/spec/v1
oid sha256:230e9927be0683c3e0f9cece663e16f6632d3454e20a0b7611b77c72e4252270
size 56387
