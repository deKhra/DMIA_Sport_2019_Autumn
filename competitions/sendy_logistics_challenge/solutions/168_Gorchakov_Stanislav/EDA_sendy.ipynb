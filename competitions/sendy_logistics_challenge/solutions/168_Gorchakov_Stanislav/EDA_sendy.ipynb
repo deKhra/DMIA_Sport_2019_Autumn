version https://git-lfs.github.com/spec/v1
oid sha256:b0a41840f86af91184e6db8f068f3fe77706f042edac490fc0caa769badf0d96
size 1008832
