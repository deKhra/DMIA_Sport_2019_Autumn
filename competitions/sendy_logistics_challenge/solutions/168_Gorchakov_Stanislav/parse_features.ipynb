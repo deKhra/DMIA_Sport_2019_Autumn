version https://git-lfs.github.com/spec/v1
oid sha256:1afb05c5dc2b726ffab486ecb632af45b52a0a2a1349ffb92bbf17c6dc3377da
size 16807
